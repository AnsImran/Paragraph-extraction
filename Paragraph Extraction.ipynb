{
 "cells": [
  {
   "cell_type": "markdown",
   "id": "8571adac",
   "metadata": {},
   "source": [
    "### Extracting Paragraphs from a .txt file AND pasting each successive paragraph in a new file"
   ]
  },
  {
   "cell_type": "code",
   "execution_count": 6,
   "id": "3ed92bad",
   "metadata": {},
   "outputs": [],
   "source": [
    "c = 1\n",
    "newfilename = str(c) + '.txt'   \n",
    "\n",
    "\n",
    "\n",
    "with open('abc.txt', 'r') as f:\n",
    "\n",
    "\n",
    "    for line in f.readlines(): \n",
    "# it'll create a list of strings. The entries/elements of the list will be the lines of the .txt file\n",
    "        \n",
    "        if line == ' \\n':\n",
    "            c = c + 1\n",
    "            newfilename = str(c) + '.txt'\n",
    "\n",
    "        \n",
    "        elif line != ' \\n':\n",
    "            pass\n",
    "            \n",
    "\n",
    "            with open(newfilename, 'a') as nf:\n",
    "                nf.write( line )\n",
    "        else:\n",
    "            continue        "
   ]
  },
  {
   "cell_type": "code",
   "execution_count": 7,
   "id": "a5f5e99d",
   "metadata": {},
   "outputs": [
    {
     "name": "stdout",
     "output_type": "stream",
     "text": [
      "qwerty\n",
      "asdfgh\n",
      "zxcvbn\n",
      " \n",
      "ytrewq\n",
      "hgfdsa\n",
      "nbvcxz\n",
      " \n",
      "poiuyt\n",
      "lkjhgf\n",
      "mnbvcx\n",
      " \n",
      "xcvbnm\n",
      "fghjkl\n",
      "tyuiop"
     ]
    }
   ],
   "source": [
    "# The original File was\n",
    "\n",
    "original_file = open('abc.txt')\n",
    "\n",
    "for line in original_file:\n",
    "    print(line, end = '')\n",
    "\n",
    "original_file.close()"
   ]
  },
  {
   "cell_type": "code",
   "execution_count": 13,
   "id": "58c90883",
   "metadata": {},
   "outputs": [
    {
     "name": "stdout",
     "output_type": "stream",
     "text": [
      "qwerty\n",
      "asdfgh\n",
      "zxcvbn\n"
     ]
    }
   ],
   "source": [
    "# The newly_created first file is\n",
    "\n",
    "with open('1.txt', 'r') as f:\n",
    "    for line in f:\n",
    "        print(line, end = '')\n",
    "        "
   ]
  },
  {
   "cell_type": "code",
   "execution_count": 14,
   "id": "21f05dcf",
   "metadata": {},
   "outputs": [
    {
     "name": "stdout",
     "output_type": "stream",
     "text": [
      "ytrewq\n",
      "hgfdsa\n",
      "nbvcxz\n"
     ]
    }
   ],
   "source": [
    "# The newly_created second file is\n",
    "\n",
    "with open('2.txt', 'r') as f:\n",
    "    for line in f:\n",
    "        print(line, end = '')\n",
    "        "
   ]
  },
  {
   "cell_type": "code",
   "execution_count": 15,
   "id": "a8b152a8",
   "metadata": {},
   "outputs": [
    {
     "name": "stdout",
     "output_type": "stream",
     "text": [
      "poiuyt\n",
      "lkjhgf\n",
      "mnbvcx\n"
     ]
    }
   ],
   "source": [
    "# The newly_created third file is\n",
    "\n",
    "with open('3.txt', 'r') as f:\n",
    "    for line in f:\n",
    "        print(line, end = '')\n",
    "        "
   ]
  },
  {
   "cell_type": "code",
   "execution_count": 16,
   "id": "0cb24954",
   "metadata": {},
   "outputs": [
    {
     "name": "stdout",
     "output_type": "stream",
     "text": [
      "xcvbnm\n",
      "fghjkl\n",
      "tyuiop"
     ]
    }
   ],
   "source": [
    "# The newly_created fourth file is\n",
    "\n",
    "with open('4.txt', 'r') as f:\n",
    "    for line in f:\n",
    "        print(line, end = '')\n",
    "        "
   ]
  }
 ],
 "metadata": {
  "kernelspec": {
   "display_name": "Python 3 (ipykernel)",
   "language": "python",
   "name": "python3"
  },
  "language_info": {
   "codemirror_mode": {
    "name": "ipython",
    "version": 3
   },
   "file_extension": ".py",
   "mimetype": "text/x-python",
   "name": "python",
   "nbconvert_exporter": "python",
   "pygments_lexer": "ipython3",
   "version": "3.10.5"
  }
 },
 "nbformat": 4,
 "nbformat_minor": 5
}
